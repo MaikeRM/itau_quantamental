{
 "cells": [
  {
   "cell_type": "code",
   "execution_count": null,
   "metadata": {},
   "outputs": [],
   "source": [
    "import math\n",
    "import random\n",
    "import numpy as np\n",
    "import pandas as pd\n",
    "import tensorflow as tf\n",
    "import matplotlib.pyplot as plt\n",
    "import yfinance as yf\n",
    "from pandas.util.testing import assert_frame_equal #import alterado\n",
    "\n",
    "from tqdm import tqdm_notebook, tqdm\n",
    "from collections import deque"
   ]
  },
  {
   "cell_type": "code",
   "execution_count": null,
   "metadata": {},
   "outputs": [],
   "source": [
    "class AI_Trader():\n",
    "\n",
    "    def __init__(self, state_size, action_space = 3, model_name = \"AITrader\"):\n",
    "        self.state_size = state_size\n",
    "        self.action_space = action_space\n",
    "        self.memory = deque(maxlen = 2000)\n",
    "        self.model_name = model_name\n",
    "\n",
    "        self.gamma = 0.95\n",
    "        self.epsilon = 1.0\n",
    "        self.epsilon_final = 0.01\n",
    "        self.epsilon_decay = 0.995\n",
    "        self.model = self.model_builder()\n",
    "\n",
    "    def model_builder(self):\n",
    "        model = tf.keras.models.Sequential()\n",
    "        model.add(tf.keras.Input(shape=(self.state_size,)))\n",
    "        model.add(tf.keras.layers.Dense(units = 32, activation = \"relu\"))\n",
    "        model.add(tf.keras.layers.Dense(units = 64, activation = \"relu\"))\n",
    "        model.add(tf.keras.layers.Dense(units = 128, activation = \"relu\"))\n",
    "        model.add(tf.keras.layers.Dense(units = self.action_space, activation = \"linear\"))\n",
    "        model.compile(loss = \"mse\", optimizer = tf.keras.optimizers.Adam(lr = 0.001))\n",
    "        return model\n",
    "\n",
    "\n",
    "    def trade(self, state):\n",
    "        if random.random() <= self.epsilon:\n",
    "            return random.randrange(self.action_space)\n",
    "\n",
    "        actions = self.model.predict(state)\n",
    "        return np.argmax(actions[0])\n",
    "\n",
    "\n",
    "    def batch_train(self, batch_size):  # sourcery skip: for-append-to-extend, list-comprehension\n",
    "        batch = []\n",
    "        for i in range(len(self.memory) - batch_size + 1, len(self.memory)):\n",
    "            batch.append(self.memory[i])\n",
    "\n",
    "        for state, action, reward, next_state, done in batch:\n",
    "            if not done:\n",
    "                reward = reward + self.gamma * np.amax(self.model.predict(next_state)[0])\n",
    "\n",
    "            target = self.model.predict(state)\n",
    "            target[0][action] = reward\n",
    "\n",
    "            self.model.fit(state, target, epochs=1, verbose=0)\n",
    "\n",
    "        if self.epsilon > self.epsilon_final:\n",
    "            self.epsilon *= self.epsilon_decay"
   ]
  },
  {
   "cell_type": "code",
   "execution_count": null,
   "metadata": {},
   "outputs": [],
   "source": [
    "def sigmoid(x):\n",
    "    return 1 / (1 + math.exp(-x))\n",
    "\n",
    "def stocks_price_format(n):\n",
    "    return \"- $ {0:2f}\".format(abs(n)) if n < 0 else \"$ {0:2f}\".format(abs(n))"
   ]
  },
  {
   "cell_type": "code",
   "execution_count": null,
   "metadata": {},
   "outputs": [],
   "source": [
    "def dataset_loader(stock_name):\n",
    "    #dataset = data_reader.DataReader(stock_name, data_source = \"yahoo\")\n",
    "    dataset = yf.download(stock_name, start='2016-06-02')\n",
    "    start_date = str(dataset.index[0]).split()[0]\n",
    "    end_date = str(dataset.index[-1]).split()[0]\n",
    "    return dataset['Close']"
   ]
  },
  {
   "cell_type": "code",
   "execution_count": null,
   "metadata": {},
   "outputs": [],
   "source": [
    "def state_creator(data, timestep, window_size):\n",
    "    # sourcery skip: for-append-to-extend, list-comprehension\n",
    "    starting_id = timestep - window_size + 1\n",
    "\n",
    "    if starting_id >= 0:\n",
    "        windowed_data = data[starting_id:timestep + 1] # Atualizado 14/03/2022\n",
    "        #windowed_data = np.array(data[starting_id:timestep + 1]) # Atualizado 14/03/2022\n",
    "    else:\n",
    "        #windowed_data = - starting_id * [data[0]] + list(data[:timestep + 1])\n",
    "        windowed_data = np.array(- starting_id * [data[0]] + list(data[:timestep + 1]))\n",
    "\n",
    "    state = []\n",
    "    for i in range(window_size - 1):\n",
    "        state.append(sigmoid(windowed_data[i + 1] / windowed_data[i] - 1))\n",
    "\n",
    "    return np.array([state]), windowed_data"
   ]
  },
  {
   "cell_type": "code",
   "execution_count": null,
   "metadata": {},
   "outputs": [],
   "source": [
    "stock_name = \"PETR4.SA\"\n",
    "data = dataset_loader(stock_name)"
   ]
  },
  {
   "cell_type": "code",
   "execution_count": null,
   "metadata": {},
   "outputs": [],
   "source": [
    "window_size = 5\n",
    "episodes = 2\n",
    "batch_size = 32\n",
    "data_samples = len(data) - 1"
   ]
  },
  {
   "cell_type": "code",
   "execution_count": null,
   "metadata": {},
   "outputs": [],
   "source": [
    "trader = AI_Trader(window_size)"
   ]
  },
  {
   "cell_type": "code",
   "execution_count": null,
   "metadata": {},
   "outputs": [],
   "source": [
    "trader.model.summary()"
   ]
  },
  {
   "cell_type": "code",
   "execution_count": null,
   "metadata": {},
   "outputs": [],
   "source": [
    "for episode in range(1, episodes + 1):\n",
    "    print(f\"Episode: {episode}/{episodes}\")\n",
    "    state = state_creator(data, 0, window_size + 1)\n",
    "    total_profit = 0\n",
    "    trader.inventory = []\n",
    "    for t in tqdm(range(data_samples)):\n",
    "        action = trader.trade(state)\n",
    "        next_state = state_creator(data, t + 1, window_size + 1)\n",
    "        reward = 0\n",
    "\n",
    "        if action == 1: # Comprando uma ação\n",
    "            trader.inventory.append(data[t])\n",
    "            print(data.index[t].date(), \"AI Trader bought: \", stocks_price_format(data[t]))\n",
    "        elif action == 2 and len(trader.inventory) > 0: # Vendendo uma ação\n",
    "            buy_price = trader.inventory.pop(0)\n",
    "\n",
    "            reward = max(data[t] - buy_price, 0)\n",
    "            total_profit += data[t] - buy_price\n",
    "            print(data.index[t].date(), \"AI Trader sold: \", stocks_price_format(data[t]), f\" Profit: {stocks_price_format(data[t] - buy_price)}\")\n",
    "\n",
    "        done = t == data_samples - 1\n",
    "        trader.memory.append((state, action, reward, next_state, done))\n",
    "\n",
    "        state = next_state\n",
    "\n",
    "        if done:\n",
    "            print(\"########################\")\n",
    "            print(f\"Total profit: {total_profit}\")\n",
    "            print(\"########################\")\n",
    "\n",
    "        if len(trader.memory) > batch_size:\n",
    "            trader.batch_train(batch_size)\n",
    "\n",
    "    if episode % 10 == 0:\n",
    "        trader.model.save(f\"ai_trader_{episode}.h5\")"
   ]
  },
  {
   "cell_type": "code",
   "execution_count": null,
   "metadata": {},
   "outputs": [],
   "source": []
  }
 ],
 "metadata": {
  "kernelspec": {
   "display_name": "Python 3.7.6 ('pep3_env')",
   "language": "python",
   "name": "python3"
  },
  "language_info": {
   "codemirror_mode": {
    "name": "ipython",
    "version": 3
   },
   "file_extension": ".py",
   "mimetype": "text/x-python",
   "name": "python",
   "nbconvert_exporter": "python",
   "pygments_lexer": "ipython3",
   "version": "3.7.6"
  },
  "orig_nbformat": 4,
  "vscode": {
   "interpreter": {
    "hash": "c03e290356c414467af39d34109afceef2509d2a5c8860716e2cdd46fbd02f30"
   }
  }
 },
 "nbformat": 4,
 "nbformat_minor": 2
}

{
 "cells": [
  {
   "cell_type": "code",
   "execution_count": 3,
   "metadata": {},
   "outputs": [],
   "source": [
    "import yfinance as yf\n",
    "import pandas as pd\n",
    "import numpy as np"
   ]
  },
  {
   "cell_type": "code",
   "execution_count": 4,
   "metadata": {},
   "outputs": [],
   "source": [
    "def download_dados(tickers, interval = '1d', period = 'max'):\n",
    "    \n",
    "    df = yf.download(tickers, interval=interval, period=period)['Adj Close']\n",
    "    #retorno, df_ln = coin.calc_ret_ln(df)\n",
    "\n",
    "    return df"
   ]
  },
  {
   "cell_type": "code",
   "execution_count": 32,
   "metadata": {},
   "outputs": [],
   "source": [
    "ativos = pd.read_csv('ativos.csv', sep=';')\n",
    "ativos = ativos.iloc[:-40]\n",
    "ativos.drop([425, 506, 561, 681], inplace=True)"
   ]
  },
  {
   "cell_type": "code",
   "execution_count": 33,
   "metadata": {},
   "outputs": [
    {
     "data": {
      "text/plain": [
       "'  MSFT AAPL AMZN TSLA GOOGL GOOG FB NVDA BRK.B JPM JNJ UNH HD BAC PG V ADBE DIS NFLX CRM MA PYPL XOM TMO PFE CSCO CMCSA ACN ABT PEP MRK AVGO COST NKE VZ KO CVX WMT WFC LLY ABBV INTC DHR MCD T TXN INTU LIN NEE LOW MDT ORCL AMD QCOM UNP UPS HON MS PM GS C NOW BLK RTX SBUX BMY AMAT TGT ISRG AMT CVS SCHW AMGN MRNA BA GE IBM CAT AXP SPGI PLD MMM ANTM ZTS BKNG COP DE ADI ADP SYK PNC CHTR MDLZ TFC GILD CB USB MO LRCX TJX MMC LMT GM CSX MU CME CCI EL DUK ICE SHW EQIX CI F EW TMUS NSC BDX COF REGN FIS ADSK ETN APD AON SO ITW CL MCO WM HCA ILMN BSX D FISV KLAC DXCM FDX HUM NXPI EMR ECL FCX PGR SPG NOC IDXX MSCI EOG EXC DG AIG ATVI JCI SNPS PSA ROP TEL INFO CMG TROW VRTX ALGN IQV APTV EBAY A CDNS BK MET XLNX APH GD SLB CARR MAR DLR FTNT KMB LHX SIVB PRU NEM DOW MCHP TWTR CNC PXD ORLY MSI AEP TT MTCH DD ROST CTSH BIIB SRE MPC HLT BAX TRV O EA GPN SYY PAYX ROK PH RMD FRC PPG AZO SBAC CTAS GIS HPQ ALL STZ YUM STT ADM IFF WBA AMP CBRE WELL DFS MCK AFL PSX VRSK OTIS WMB XEL MTD EFX CMI KEYS ANSS AJG AVB FAST CTVA KMI ODFL CPRT TDG AME MNST WST NUE PEG ENPH PCAR ZBH VLO ZBRA FITB BLL ALB AWK SWK WLTW OXY LUV KR ETSY ES DHI EQR ARE WY SWKS GNRC OKE GLW ANET WEC KSU BBY LEN RSG LH URI FTV SYF IT EXR ED DVN DAL DLTR NTRS VMC HIG HSY CDW MLM TSCO PAYC DOV KHC NDAQ LYB TSN VFC KMX HBAN EIX RF MAA CZR CTLT EXPE CERN MPWR KEY VIAC IR XYL PPL HES TYL TRMB HAL VRSN DTE TER STE CHD ESS AEE EXPD GRMN TTWO FE WAT DRE BKR ULTA TDY COO ETR GWW VTR POOL CFG MTB MKC CLX NTAP FLT HPE QRVO BBWI RCL BR TECH MGM PKI IP CRL GPC ABC FANG AMCR RJF DRI PEAK STX CINF CE CCL HOLX J AKAM AVY CTRA DPZ DGX WAB IEX CMS TXT CDAY PFG WDC NVR AES VTRS BIO BXP JBHT PWR TFX ABMD K MAS CAG UAL UDR CNP LKQ MKTX AAP EMN NLOK CAH EVRG OMC KIM BRO CBOE LNT IPG IRM FBHS LYV PTC WHR MOS LVS SJM FMC FOXA AAL FFIV BF.B RHI MRO XRAY WRK PKG LDOS HST INCY PHM CF CHRW HRL ATO PNR LUMN HAS CMA JKHY HWM L TPR CTXS ALLE WRB SNA REG BWA HSIC RE PENN DISH ZION APA AOS BEN JNPR NCLH MHK WYNN NRG NI AIZ UHS OGN SEE NWSA NWL IVZ FRT TAP GL CPB PVH LW DXC HII PBCT ROL NLSN WU PNW DISCK DVA VNO ALK HBI IPGP RL LEG FOX GPS UAA UA DISCA NWS AAPL NVDA GOOG GOOGL FB ADBE NFLX PYPL CSCO CMCSA PEP AVGO COST INTC TXN INTU AMD HON TMUS MRNA SBUX ISRG AMAT CHTR AMGN BKNG ADI ADP MDLZ GILD LRCX CSX MU MELI ADSK ZM REGN ASML FISV ILMN JD DXCM TEAM ATVI KLAC LULU MRVL WDAY DOCU CRWD IDXX ALGN EXC MAR KDP EBAY CDNS VRTX XLNX MNST KHC CTAS PAYX MCHP ORLY AEP CTSH MTCH BIDU ROST BIIB EA CPRT OKTA PDD XEL ANSS FAST SGEN NTES SWKS SPLK CDW SIRI VRSN DLTR PTON CERN CHKP TCOM INCY FOXA FOX SPY XLF UVXY XLE SOXS EWZ HYG SLV IWM EEM FXI GDX SOXL KWEB XLU XLV KOLD XLK EFA LQD JNK SDS TZA XLP IAU XLI DRIP SPXU VEA UNG USO BKLN VWO KRE TNA XOP IEMG IEFA EWJ ARKK QID SPXS GLD IXC AGG XBI SPYV JETS XLY ITB XLB IYR SPXL SH DBC SPIB VGK UPRO SJNK XLRE TBT GDXJ IWD SCO SRTY VOO SCHP DIA USMV PSQ PSLV SPTL EWY VTI ERX IJR XME VNQ XRT EWC GOVT RSX NUGT TIP LABU EWT SPEM JDST PHYS BSV LABD BNO EZU UDOW IWF DBO YINN RSP QLD SPLG SSO IYE PGX GUSH IVW EWU URA ARKG VIXY SPSB EWG DUST SDOW EFV GSG SPYG TECS SVXY VTEB TWM EWH SCHF KBE FAS ILF FAZ ASHR IWR XHB BOIL TECL AMLP SPLV FCG IJJ EWA ECH VEU SRLN MUB SPMB SCHD CWB VTV INDA VT SPTI SILJ SPAB EWW TMF LIT SPDW FEZ SHYG SPLB KSA ERY SGOL GUNR XSOE EMLC ITOT VDE MDY IWN EWL HYD VIG VLUE TFI MINT AGQ TBF UUP DBA DGRO RWM JNUG IQLT TAN UCO DPST EIDO ARKW IJH ICVT KIE FPE DXD HYS VYM IHI VUG RODM FNDE YANG SCHX BIV SPMD OIH SPIP SDIV SCHO'"
      ]
     },
     "execution_count": 33,
     "metadata": {},
     "output_type": "execute_result"
    }
   ],
   "source": [
    "tickers = ' '\n",
    "for i in range(len(ativos)):\n",
    "    aux = ativos.iloc[i][1]\n",
    "    tickers = tickers +' '+ aux\n",
    "tickers"
   ]
  },
  {
   "cell_type": "code",
   "execution_count": null,
   "metadata": {},
   "outputs": [],
   "source": [
    "#tickers = \"ABEV3.SA AZUL4.SA B3SA3.SA BBAS3.SA BBDC3.SA BBDC4.SA BBSE3.SA  BRAP4.SA  BRFS3.SA BRKM5.SA BRML3.SA CCRO3.SA CIEL3.SA CMIG4.SA COGN3.SA CRFB3.SA CSAN3.SA CSNA3.SA CVCB3.SA CYRE3.SA ECOR3.SA EGIE3.SA ELET3.SA ELET6.SA EMBR3.SA ENBR3.SA EQTL3.SA FLRY3.SA GGBR4.SA GNDI3.SA GOAU4.SA GOLL4.SA HAPV3.SA HGTX3.SA HYPE3.SA IGTA3.SA IRBR3.SA ITSA4.SA ITUB4.SA JBSS3.SA KLBN11.SA LAME4.SA LREN3.SA MGLU3.SA MRFG3.SA MRVE3.SA MULT3.SA PETR3.SA PETR4.SA QUAL3.SA RADL3.SA RAIL3.SA RENT3.SA SANB11.SA SBSP3.SA SULA11.SA SUZB3.SA TAEE11.SA TOTS3.SA UGPA3.SA USIM5.SA VALE3.SA VIIA3.SA WEGE3.SA YDUQ3.SA\""
   ]
  },
  {
   "cell_type": "code",
   "execution_count": 34,
   "metadata": {},
   "outputs": [
    {
     "name": "stdout",
     "output_type": "stream",
     "text": [
      "[*********************100%***********************]  729 of 729 completed\n",
      "\n",
      "3 Failed downloads:\n",
      "- EWW: Error occurred while retrieving timeseries from Redis, keys: [RedisKey [key=EWW, cluster=finance]]\n",
      "- BF.B: None\n",
      "- BRK.B: No data found, symbol may be delisted\n"
     ]
    },
    {
     "data": {
      "text/html": [
       "<div>\n",
       "<style scoped>\n",
       "    .dataframe tbody tr th:only-of-type {\n",
       "        vertical-align: middle;\n",
       "    }\n",
       "\n",
       "    .dataframe tbody tr th {\n",
       "        vertical-align: top;\n",
       "    }\n",
       "\n",
       "    .dataframe thead th {\n",
       "        text-align: right;\n",
       "    }\n",
       "</style>\n",
       "<table border=\"1\" class=\"dataframe\">\n",
       "  <thead>\n",
       "    <tr style=\"text-align: right;\">\n",
       "      <th></th>\n",
       "      <th>A</th>\n",
       "      <th>AAL</th>\n",
       "      <th>AAP</th>\n",
       "      <th>AAPL</th>\n",
       "      <th>ABBV</th>\n",
       "      <th>ABC</th>\n",
       "      <th>ABMD</th>\n",
       "      <th>ABT</th>\n",
       "      <th>ACN</th>\n",
       "      <th>ADBE</th>\n",
       "      <th>...</th>\n",
       "      <th>XSOE</th>\n",
       "      <th>XYL</th>\n",
       "      <th>YANG</th>\n",
       "      <th>YINN</th>\n",
       "      <th>YUM</th>\n",
       "      <th>ZBH</th>\n",
       "      <th>ZBRA</th>\n",
       "      <th>ZION</th>\n",
       "      <th>ZM</th>\n",
       "      <th>ZTS</th>\n",
       "    </tr>\n",
       "    <tr>\n",
       "      <th>Date</th>\n",
       "      <th></th>\n",
       "      <th></th>\n",
       "      <th></th>\n",
       "      <th></th>\n",
       "      <th></th>\n",
       "      <th></th>\n",
       "      <th></th>\n",
       "      <th></th>\n",
       "      <th></th>\n",
       "      <th></th>\n",
       "      <th></th>\n",
       "      <th></th>\n",
       "      <th></th>\n",
       "      <th></th>\n",
       "      <th></th>\n",
       "      <th></th>\n",
       "      <th></th>\n",
       "      <th></th>\n",
       "      <th></th>\n",
       "      <th></th>\n",
       "      <th></th>\n",
       "    </tr>\n",
       "  </thead>\n",
       "  <tbody>\n",
       "    <tr>\n",
       "      <th>2018-11-05</th>\n",
       "      <td>64.403152</td>\n",
       "      <td>35.151604</td>\n",
       "      <td>161.405304</td>\n",
       "      <td>48.898945</td>\n",
       "      <td>69.645958</td>\n",
       "      <td>84.006088</td>\n",
       "      <td>392.910004</td>\n",
       "      <td>67.129265</td>\n",
       "      <td>152.267532</td>\n",
       "      <td>239.889999</td>\n",
       "      <td>...</td>\n",
       "      <td>25.382261</td>\n",
       "      <td>66.281212</td>\n",
       "      <td>60.282505</td>\n",
       "      <td>19.733435</td>\n",
       "      <td>83.001892</td>\n",
       "      <td>112.503639</td>\n",
       "      <td>168.000000</td>\n",
       "      <td>44.776367</td>\n",
       "      <td>NaN</td>\n",
       "      <td>90.981613</td>\n",
       "    </tr>\n",
       "    <tr>\n",
       "      <th>2018-11-06</th>\n",
       "      <td>64.471550</td>\n",
       "      <td>34.610352</td>\n",
       "      <td>164.318420</td>\n",
       "      <td>49.427746</td>\n",
       "      <td>70.556808</td>\n",
       "      <td>79.680580</td>\n",
       "      <td>389.850006</td>\n",
       "      <td>67.672874</td>\n",
       "      <td>153.054794</td>\n",
       "      <td>240.559998</td>\n",
       "      <td>...</td>\n",
       "      <td>25.294147</td>\n",
       "      <td>67.577637</td>\n",
       "      <td>60.223576</td>\n",
       "      <td>19.781994</td>\n",
       "      <td>83.409920</td>\n",
       "      <td>112.513428</td>\n",
       "      <td>178.740005</td>\n",
       "      <td>45.264061</td>\n",
       "      <td>NaN</td>\n",
       "      <td>91.020889</td>\n",
       "    </tr>\n",
       "    <tr>\n",
       "      <th>2018-11-07</th>\n",
       "      <td>66.699425</td>\n",
       "      <td>36.381710</td>\n",
       "      <td>166.684113</td>\n",
       "      <td>50.926807</td>\n",
       "      <td>73.339943</td>\n",
       "      <td>82.089966</td>\n",
       "      <td>412.100006</td>\n",
       "      <td>69.141525</td>\n",
       "      <td>157.327087</td>\n",
       "      <td>253.429993</td>\n",
       "      <td>...</td>\n",
       "      <td>25.722260</td>\n",
       "      <td>69.173935</td>\n",
       "      <td>56.638844</td>\n",
       "      <td>20.927931</td>\n",
       "      <td>84.814323</td>\n",
       "      <td>115.564919</td>\n",
       "      <td>180.240005</td>\n",
       "      <td>45.742569</td>\n",
       "      <td>NaN</td>\n",
       "      <td>93.405319</td>\n",
       "    </tr>\n",
       "    <tr>\n",
       "      <th>2018-11-08</th>\n",
       "      <td>66.240181</td>\n",
       "      <td>36.273464</td>\n",
       "      <td>168.580582</td>\n",
       "      <td>50.749123</td>\n",
       "      <td>73.989349</td>\n",
       "      <td>84.584732</td>\n",
       "      <td>413.850006</td>\n",
       "      <td>69.580223</td>\n",
       "      <td>157.931946</td>\n",
       "      <td>249.960007</td>\n",
       "      <td>...</td>\n",
       "      <td>25.179220</td>\n",
       "      <td>69.231979</td>\n",
       "      <td>60.282505</td>\n",
       "      <td>19.568344</td>\n",
       "      <td>85.839149</td>\n",
       "      <td>116.601616</td>\n",
       "      <td>182.479996</td>\n",
       "      <td>46.395897</td>\n",
       "      <td>NaN</td>\n",
       "      <td>93.120750</td>\n",
       "    </tr>\n",
       "    <tr>\n",
       "      <th>2018-11-09</th>\n",
       "      <td>65.732056</td>\n",
       "      <td>35.643646</td>\n",
       "      <td>167.339096</td>\n",
       "      <td>49.770596</td>\n",
       "      <td>74.883324</td>\n",
       "      <td>84.290649</td>\n",
       "      <td>405.170013</td>\n",
       "      <td>69.418091</td>\n",
       "      <td>158.555984</td>\n",
       "      <td>244.839996</td>\n",
       "      <td>...</td>\n",
       "      <td>24.662033</td>\n",
       "      <td>68.574120</td>\n",
       "      <td>65.271675</td>\n",
       "      <td>18.033957</td>\n",
       "      <td>86.085869</td>\n",
       "      <td>115.036766</td>\n",
       "      <td>181.500000</td>\n",
       "      <td>46.156654</td>\n",
       "      <td>NaN</td>\n",
       "      <td>93.483803</td>\n",
       "    </tr>\n",
       "  </tbody>\n",
       "</table>\n",
       "<p>5 rows × 729 columns</p>\n",
       "</div>"
      ],
      "text/plain": [
       "                    A        AAL         AAP       AAPL       ABBV        ABC  \\\n",
       "Date                                                                            \n",
       "2018-11-05  64.403152  35.151604  161.405304  48.898945  69.645958  84.006088   \n",
       "2018-11-06  64.471550  34.610352  164.318420  49.427746  70.556808  79.680580   \n",
       "2018-11-07  66.699425  36.381710  166.684113  50.926807  73.339943  82.089966   \n",
       "2018-11-08  66.240181  36.273464  168.580582  50.749123  73.989349  84.584732   \n",
       "2018-11-09  65.732056  35.643646  167.339096  49.770596  74.883324  84.290649   \n",
       "\n",
       "                  ABMD        ABT         ACN        ADBE  ...       XSOE  \\\n",
       "Date                                                       ...              \n",
       "2018-11-05  392.910004  67.129265  152.267532  239.889999  ...  25.382261   \n",
       "2018-11-06  389.850006  67.672874  153.054794  240.559998  ...  25.294147   \n",
       "2018-11-07  412.100006  69.141525  157.327087  253.429993  ...  25.722260   \n",
       "2018-11-08  413.850006  69.580223  157.931946  249.960007  ...  25.179220   \n",
       "2018-11-09  405.170013  69.418091  158.555984  244.839996  ...  24.662033   \n",
       "\n",
       "                  XYL       YANG       YINN        YUM         ZBH  \\\n",
       "Date                                                                 \n",
       "2018-11-05  66.281212  60.282505  19.733435  83.001892  112.503639   \n",
       "2018-11-06  67.577637  60.223576  19.781994  83.409920  112.513428   \n",
       "2018-11-07  69.173935  56.638844  20.927931  84.814323  115.564919   \n",
       "2018-11-08  69.231979  60.282505  19.568344  85.839149  116.601616   \n",
       "2018-11-09  68.574120  65.271675  18.033957  86.085869  115.036766   \n",
       "\n",
       "                  ZBRA       ZION  ZM        ZTS  \n",
       "Date                                              \n",
       "2018-11-05  168.000000  44.776367 NaN  90.981613  \n",
       "2018-11-06  178.740005  45.264061 NaN  91.020889  \n",
       "2018-11-07  180.240005  45.742569 NaN  93.405319  \n",
       "2018-11-08  182.479996  46.395897 NaN  93.120750  \n",
       "2018-11-09  181.500000  46.156654 NaN  93.483803  \n",
       "\n",
       "[5 rows x 729 columns]"
      ]
     },
     "execution_count": 34,
     "metadata": {},
     "output_type": "execute_result"
    }
   ],
   "source": [
    "from mlpairs import OpticsPairs\n",
    "import pandas as pd\n",
    "\n",
    "stock_prices = yf.download(tickers, interval='1d', period='3y')['Adj Close']\n",
    "#stock_prices = pd.read_csv('stock_prices.csv', index_col='Date')\n",
    "train = stock_prices[:'2019']\n",
    "test = stock_prices['2020':]\n",
    "\n",
    "train.head()"
   ]
  },
  {
   "cell_type": "code",
   "execution_count": 35,
   "metadata": {},
   "outputs": [],
   "source": [
    "stock_prices.to_csv('stock_prices.csv')"
   ]
  },
  {
   "cell_type": "code",
   "execution_count": null,
   "metadata": {},
   "outputs": [],
   "source": [
    "train.dropna(0, inplace=True)\n",
    "test.dropna(0,inplace=True)\n",
    "print(len(train), len(test))"
   ]
  },
  {
   "cell_type": "code",
   "execution_count": null,
   "metadata": {},
   "outputs": [],
   "source": [
    "op = OpticsPairs(train)\n",
    "op.returns.head()"
   ]
  },
  {
   "cell_type": "code",
   "execution_count": null,
   "metadata": {},
   "outputs": [],
   "source": [
    "for i in range(len(op.returns)):\n",
    "    for j in range(len(op.returns.columns)):\n",
    "        if op.returns.iloc[i][j] == np.inf or op.returns.iloc[i][j] == -np.inf:\n",
    "            op.returns.iloc[i][j] = 0.00"
   ]
  },
  {
   "cell_type": "code",
   "execution_count": null,
   "metadata": {},
   "outputs": [],
   "source": [
    "op.returns.fillna(0,inplace=True)"
   ]
  },
  {
   "cell_type": "code",
   "execution_count": null,
   "metadata": {},
   "outputs": [],
   "source": [
    "op.reduce_PCA()\n",
    "op.plot_loadings()"
   ]
  },
  {
   "cell_type": "code",
   "execution_count": null,
   "metadata": {},
   "outputs": [],
   "source": [
    "op.find_pairs()\n",
    "op.pairs"
   ]
  },
  {
   "cell_type": "code",
   "execution_count": null,
   "metadata": {},
   "outputs": [],
   "source": [
    "op.plot_clusters(n_dimensions=2)"
   ]
  },
  {
   "cell_type": "code",
   "execution_count": null,
   "metadata": {},
   "outputs": [],
   "source": [
    "op.calc_eg_norm_spreads()\n",
    "op.calc_hurst_exponents()\n",
    "op.calc_half_lives()\n",
    "op.calc_avg_cross_count()"
   ]
  },
  {
   "cell_type": "code",
   "execution_count": null,
   "metadata": {},
   "outputs": [],
   "source": [
    "op.filter_pairs()\n",
    "op.filtered_pairs"
   ]
  },
  {
   "cell_type": "code",
   "execution_count": null,
   "metadata": {},
   "outputs": [],
   "source": [
    "for i in op.filtered_pairs.index:\n",
    "    op.plot_pair_price_spread(idx=i)"
   ]
  },
  {
   "cell_type": "code",
   "execution_count": null,
   "metadata": {},
   "outputs": [],
   "source": []
  }
 ],
 "metadata": {
  "interpreter": {
   "hash": "b3d3522493934ff0138aee2c6dff330d5dccf278757c2f33119be5c9d92446bf"
  },
  "kernelspec": {
   "display_name": "Python 3.9.5 64-bit",
   "name": "python3"
  },
  "language_info": {
   "codemirror_mode": {
    "name": "ipython",
    "version": 3
   },
   "file_extension": ".py",
   "mimetype": "text/x-python",
   "name": "python",
   "nbconvert_exporter": "python",
   "pygments_lexer": "ipython3",
   "version": "3.9.5"
  },
  "orig_nbformat": 4
 },
 "nbformat": 4,
 "nbformat_minor": 2
}

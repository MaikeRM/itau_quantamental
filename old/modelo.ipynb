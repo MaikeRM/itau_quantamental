{
 "cells": [
  {
   "cell_type": "code",
   "execution_count": null,
   "metadata": {},
   "outputs": [],
   "source": [
    "import matplotlib.pyplot as plt\n",
    "import numpy as np\n",
    "import pandas as pd\n",
    "from pykalman import KalmanFilter\n",
    "import yfinance as yf\n",
    "import coin\n",
    "from sklearn.linear_model import LinearRegression\n",
    "import statsmodels.tsa.stattools as ts\n",
    "from statsmodels.tsa.stattools import adfuller\n",
    "from datetime import timedelta\n",
    "plt.rcParams['figure.figsize'] = [12, 8]\n",
    "\n",
    "#from basicbacktester import BasicBacktester"
   ]
  },
  {
   "cell_type": "code",
   "execution_count": null,
   "metadata": {},
   "outputs": [],
   "source": [
    "def download_dados(tickers, interval, period):\n",
    "    \n",
    "    df = yf.download(tickers, interval=interval, period=period)['Adj Close']\n",
    "    #retorno, df_ln = coin.calc_ret_ln(df)\n",
    "\n",
    "    return coin.calc_ret_ln(df)"
   ]
  },
  {
   "cell_type": "code",
   "execution_count": null,
   "metadata": {},
   "outputs": [],
   "source": [
    "tickers = 'EWZ, PBR'"
   ]
  },
  {
   "cell_type": "code",
   "execution_count": null,
   "metadata": {},
   "outputs": [],
   "source": [
    "_, prices = download_dados(tickers, interval='1d', period='10y')"
   ]
  },
  {
   "cell_type": "code",
   "execution_count": null,
   "metadata": {},
   "outputs": [],
   "source": [
    "prices"
   ]
  },
  {
   "cell_type": "code",
   "execution_count": null,
   "metadata": {},
   "outputs": [],
   "source": [
    "ativo_1_array = np.array(prices[prices.columns[0]]).reshape(-1, 1)\n",
    "ativo_2_array = np.array(prices[prices.columns[1]]).reshape(-1,1)\n",
    "\n",
    "reg = LinearRegression().fit(ativo_1_array, ativo_2_array)\n",
    "static_hedge_ratio = reg.coef_[0][0]\n",
    "\n",
    "print(f'The static hedge ratio is {round(static_hedge_ratio, 2)}')"
   ]
  },
  {
   "cell_type": "code",
   "execution_count": null,
   "metadata": {},
   "outputs": [],
   "source": [
    "spread = prices[prices.columns[0]] - static_hedge_ratio*prices[prices.columns[1]]"
   ]
  },
  {
   "cell_type": "code",
   "execution_count": null,
   "metadata": {},
   "outputs": [],
   "source": [
    "adf_results = adfuller(spread.values)\n",
    "print('ADF Statistic: %f' % adf_results[0])\n",
    "print('p-value: %f' % adf_results[1])"
   ]
  },
  {
   "cell_type": "code",
   "execution_count": null,
   "metadata": {},
   "outputs": [],
   "source": [
    "plt.plot(spread, label='spread from static hedge ratio')\n",
    "plt.legend()\n",
    "plt.show()"
   ]
  },
  {
   "cell_type": "code",
   "execution_count": null,
   "metadata": {},
   "outputs": [],
   "source": [
    "def draw_date_coloured_scatterplot(etfs, prices):\n",
    "    \"\"\"\n",
    "    Create a scatterplot of the two ETF prices, which is\n",
    "    coloured by the date of the price to indicate the \n",
    "    changing relationship between the sets of prices    \n",
    "    \"\"\"\n",
    "    # Create a yellow-to-red colourmap where yellow indicates\n",
    "    # early dates and red indicates later dates\n",
    "    plen = len(prices)\n",
    "    colour_map = plt.cm.get_cmap('YlOrRd')    \n",
    "    colours = np.linspace(0.1, 1, plen)\n",
    "    \n",
    "    # Create the scatterplot object\n",
    "    scatterplot = plt.scatter(\n",
    "        prices[etfs[0]], prices[etfs[1]], \n",
    "        s=30, c=colours, cmap=colour_map, \n",
    "        edgecolor='k', alpha=0.8\n",
    "    )\n",
    "    \n",
    "    # Add a colour bar for the date colouring and set the \n",
    "    # corresponding axis tick labels to equal string-formatted dates\n",
    "    colourbar = plt.colorbar(scatterplot)\n",
    "    colourbar.ax.set_yticklabels(\n",
    "        [str(p.date()) for p in prices[::plen//9].index]\n",
    "    )\n",
    "    plt.xlabel(prices.columns[0])\n",
    "    plt.ylabel(prices.columns[1])\n",
    "    plt.show()"
   ]
  },
  {
   "cell_type": "code",
   "execution_count": null,
   "metadata": {},
   "outputs": [],
   "source": [
    "draw_date_coloured_scatterplot([prices.columns[0], prices.columns[1]], prices)"
   ]
  },
  {
   "cell_type": "code",
   "execution_count": null,
   "metadata": {},
   "outputs": [],
   "source": [
    "class KalmanFilterPairs():\n",
    "    def __init__(self, y, f, delta, Ve):\n",
    "        self.y = y # observed variable\n",
    "        self.f = f # variable that is part of the observation matrix\n",
    "        self.F = np.array(ts.add_constant(f))[:, [1, 0]] # observation matrix\n",
    "        self.delta = delta # parameter that adjusts the sensitivity of the state update\n",
    "        self.Ve = Ve # state noise variance"
   ]
  },
  {
   "cell_type": "code",
   "execution_count": null,
   "metadata": {},
   "outputs": [],
   "source": [
    "# Initialising A Kalman Filter Algorithm\n",
    "\n",
    "kfp = KalmanFilterPairs(y=prices[prices.columns[0]], \n",
    "                        f=prices[prices.columns[1]], \n",
    "                        delta=0.0001, \n",
    "                        Ve=0.1)"
   ]
  },
  {
   "cell_type": "code",
   "execution_count": null,
   "metadata": {},
   "outputs": [],
   "source": [
    "def calc_slope_intercept_kalman(etfs, prices):\n",
    "    \"\"\"\n",
    "    Utilise the Kalman Filter from the pyKalman package\n",
    "    to calculate the slope and intercept of the regressed\n",
    "    ETF prices.\n",
    "    \"\"\"\n",
    "    delta = 1e-5\n",
    "    trans_cov = delta / (1 - delta) * np.eye(2)\n",
    "    obs_mat = np.vstack(\n",
    "        [prices[etfs[0]], np.ones(prices[etfs[0]].shape)]\n",
    "    ).T[:, np.newaxis]\n",
    "    \n",
    "    kf = KalmanFilter(\n",
    "        n_dim_obs=1, \n",
    "        n_dim_state=2,\n",
    "        initial_state_mean=np.zeros(2),\n",
    "        initial_state_covariance=np.ones((2, 2)),\n",
    "        transition_matrices=np.eye(2),\n",
    "        observation_matrices=obs_mat,\n",
    "        observation_covariance=1.0,\n",
    "        transition_covariance=trans_cov\n",
    "    )\n",
    "    \n",
    "    state_means, state_covs = kf.filter(prices[etfs[1]].values)\n",
    "    return state_means, state_covs"
   ]
  },
  {
   "cell_type": "code",
   "execution_count": null,
   "metadata": {},
   "outputs": [],
   "source": [
    "def draw_slope_intercept_changes(prices, state_means):\n",
    "    \"\"\"\n",
    "    Plot the slope and intercept changes from the \n",
    "    Kalman Filte calculated values.\n",
    "    \"\"\"\n",
    "    pd.DataFrame(\n",
    "        dict(\n",
    "            slope=state_means[:, 0], \n",
    "            intercept=state_means[:, 1]\n",
    "        ), index=prices.index\n",
    "    ).plot(subplots=True)\n",
    "    plt.show()"
   ]
  },
  {
   "cell_type": "code",
   "execution_count": null,
   "metadata": {},
   "outputs": [],
   "source": [
    "state_means, state_covs = calc_slope_intercept_kalman([prices.columns[0], prices.columns[1]], prices.astype(float))\n",
    "draw_slope_intercept_changes(prices, state_means)"
   ]
  },
  {
   "cell_type": "code",
   "execution_count": null,
   "metadata": {},
   "outputs": [],
   "source": [
    "static_spread = prices[prices.columns[0]] - static_hedge_ratio*prices[prices.columns[1]]"
   ]
  },
  {
   "cell_type": "code",
   "execution_count": null,
   "metadata": {},
   "outputs": [],
   "source": [
    "#plt.plot(prices.index, kfp.spread, label='Kalman Filter spread')\n",
    "#plt.plot(prices.index, kfp.mean, label='Kalman Filter mean', linewidth=2, alpha=0.8)\n",
    "\n",
    "plt.plot(prices.index, static_spread, label='Static hedge ratio spread', alpha=0.4)\n",
    "plt.legend()\n",
    "plt.show()"
   ]
  },
  {
   "cell_type": "code",
   "execution_count": 3,
   "metadata": {},
   "outputs": [
    {
     "name": "stdout",
     "output_type": "stream",
     "text": [
      "Note: you may need to restart the kernel to use updated packages.\n"
     ]
    },
    {
     "name": "stderr",
     "output_type": "stream",
     "text": [
      "ERROR: Could not find a version that satisfies the requirement pandas.io.data\n",
      "ERROR: No matching distribution found for pandas.io.data\n"
     ]
    }
   ],
   "source": [
    "pip install pandas.io.data"
   ]
  },
  {
   "cell_type": "code",
   "execution_count": null,
   "metadata": {},
   "outputs": [],
   "source": []
  }
 ],
 "metadata": {
  "interpreter": {
   "hash": "2a89ebda5b1df6869a80ed231ce3cbd82800ba4c96516904a7ea152290f5b260"
  },
  "kernelspec": {
   "display_name": "Python 3.8.8 64-bit ('base': conda)",
   "name": "python3"
  },
  "language_info": {
   "codemirror_mode": {
    "name": "ipython",
    "version": 3
   },
   "file_extension": ".py",
   "mimetype": "text/x-python",
   "name": "python",
   "nbconvert_exporter": "python",
   "pygments_lexer": "ipython3",
   "version": "3.8.8"
  },
  "orig_nbformat": 4
 },
 "nbformat": 4,
 "nbformat_minor": 2
}

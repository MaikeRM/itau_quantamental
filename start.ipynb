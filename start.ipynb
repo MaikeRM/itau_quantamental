{
 "cells": [
  {
   "cell_type": "code",
   "execution_count": 3,
   "source": [
    "import pandas as pd\r\n",
    "import math"
   ],
   "outputs": [],
   "metadata": {}
  },
  {
   "cell_type": "code",
   "execution_count": 4,
   "source": [
    "df = pd.read_excel('base_1D.xlsx', index_col='Data')"
   ],
   "outputs": [],
   "metadata": {}
  },
  {
   "cell_type": "code",
   "execution_count": 7,
   "source": [
    "def calc_ret_ln(df):\r\n",
    "    #Cria matriz para receber valores calculados\r\n",
    "    df_ln = pd.DataFrame(columns = df.columns, index = df.index)\r\n",
    "\r\n",
    "    #Calcula o ln para todos os valores\r\n",
    "    for i in range(len(df)):\r\n",
    "        for columns in df.columns:\r\n",
    "            df_ln[columns][i] = math.log(df[columns][i])\r\n",
    "\r\n",
    "    # Retorno diário     \r\n",
    "    ret = df_ln - df_ln.shift(-1)\r\n",
    "\r\n",
    "    return ret.dropna()"
   ],
   "outputs": [],
   "metadata": {}
  },
  {
   "cell_type": "code",
   "execution_count": 9,
   "source": [
    "retorno = calc_ret_ln(df)"
   ],
   "outputs": [],
   "metadata": {}
  },
  {
   "cell_type": "code",
   "execution_count": null,
   "source": [],
   "outputs": [],
   "metadata": {}
  },
  {
   "cell_type": "code",
   "execution_count": null,
   "source": [],
   "outputs": [],
   "metadata": {}
  }
 ],
 "metadata": {
  "orig_nbformat": 4,
  "language_info": {
   "name": "python",
   "version": "3.8.8",
   "mimetype": "text/x-python",
   "codemirror_mode": {
    "name": "ipython",
    "version": 3
   },
   "pygments_lexer": "ipython3",
   "nbconvert_exporter": "python",
   "file_extension": ".py"
  },
  "kernelspec": {
   "name": "python3",
   "display_name": "Python 3.8.8 64-bit ('base': conda)"
  },
  "interpreter": {
   "hash": "2a89ebda5b1df6869a80ed231ce3cbd82800ba4c96516904a7ea152290f5b260"
  }
 },
 "nbformat": 4,
 "nbformat_minor": 2
}
{
 "cells": [
  {
   "cell_type": "code",
   "execution_count": null,
   "metadata": {},
   "outputs": [],
   "source": [
    "import pandas as pd\n",
    "import statsmodels.api as sm\n",
    "import numpy as np\n",
    "import matplotlib.pyplot as plt\n",
    "import coin\n",
    "import yfinance as yf"
   ]
  },
  {
   "cell_type": "code",
   "execution_count": null,
   "metadata": {},
   "outputs": [],
   "source": [
    "df = yf.download('IVVB11.SA BOVA11.SA', interval='15m', period='60d')['Adj Close']"
   ]
  },
  {
   "cell_type": "code",
   "execution_count": null,
   "metadata": {},
   "outputs": [],
   "source": [
    "df.dropna(inplace=True)"
   ]
  },
  {
   "cell_type": "code",
   "execution_count": null,
   "metadata": {},
   "outputs": [],
   "source": [
    "retorno, df_ln = coin.calc_ret_ln(df)"
   ]
  },
  {
   "cell_type": "code",
   "execution_count": null,
   "metadata": {},
   "outputs": [],
   "source": [
    "retorno"
   ]
  },
  {
   "cell_type": "code",
   "execution_count": null,
   "metadata": {},
   "outputs": [],
   "source": [
    "periodo = 1000\n",
    "base = retorno"
   ]
  },
  {
   "cell_type": "markdown",
   "metadata": {},
   "source": [
    "# Regressão"
   ]
  },
  {
   "cell_type": "markdown",
   "metadata": {},
   "source": [
    "## Precos as is"
   ]
  },
  {
   "cell_type": "code",
   "execution_count": null,
   "metadata": {},
   "outputs": [],
   "source": [
    "y = np.array(base['BOVA11.SA'].iloc[:periodo], dtype = float)\n",
    "x = np.array(base.iloc[:periodo,1:], dtype = float)"
   ]
  },
  {
   "cell_type": "code",
   "execution_count": null,
   "metadata": {},
   "outputs": [],
   "source": [
    "coef = coin.reg_m(x,y).params"
   ]
  },
  {
   "cell_type": "code",
   "execution_count": 3,
   "metadata": {},
   "outputs": [
    {
     "name": "stderr",
     "output_type": "stream",
     "text": [
      "C:\\Users\\maike\\anaconda3\\lib\\site-packages\\IPython\\core\\interactiveshell.py:3165: DtypeWarning: Columns (1,2) have mixed types.Specify dtype option on import or set low_memory=False.\n",
      "  has_raised = await self.run_ast_nodes(code_ast.body, cell_name,\n"
     ]
    }
   ],
   "source": [
    "import pandas as pd\n",
    "dados = pd.read_csv('testes_coin.csv')"
   ]
  },
  {
   "cell_type": "code",
   "execution_count": 5,
   "metadata": {},
   "outputs": [
    {
     "data": {
      "text/html": [
       "<div>\n",
       "<style scoped>\n",
       "    .dataframe tbody tr th:only-of-type {\n",
       "        vertical-align: middle;\n",
       "    }\n",
       "\n",
       "    .dataframe tbody tr th {\n",
       "        vertical-align: top;\n",
       "    }\n",
       "\n",
       "    .dataframe thead th {\n",
       "        text-align: right;\n",
       "    }\n",
       "</style>\n",
       "<table border=\"1\" class=\"dataframe\">\n",
       "  <thead>\n",
       "    <tr style=\"text-align: right;\">\n",
       "      <th></th>\n",
       "      <th>Unnamed: 0</th>\n",
       "      <th>Ativo 1</th>\n",
       "      <th>Ativo 2</th>\n",
       "      <th>Inicio</th>\n",
       "      <th>Periodo</th>\n",
       "      <th>ADF Test</th>\n",
       "    </tr>\n",
       "  </thead>\n",
       "  <tbody>\n",
       "    <tr>\n",
       "      <th>0</th>\n",
       "      <td>0</td>\n",
       "      <td>ABEV3.SA</td>\n",
       "      <td>AZUL4.SA</td>\n",
       "      <td>0.0</td>\n",
       "      <td>60.0</td>\n",
       "      <td>-21.488518</td>\n",
       "    </tr>\n",
       "    <tr>\n",
       "      <th>1</th>\n",
       "      <td>1</td>\n",
       "      <td>ABEV3.SA</td>\n",
       "      <td>AZUL4.SA</td>\n",
       "      <td>0.0</td>\n",
       "      <td>100.0</td>\n",
       "      <td>-21.874476</td>\n",
       "    </tr>\n",
       "    <tr>\n",
       "      <th>2</th>\n",
       "      <td>2</td>\n",
       "      <td>ABEV3.SA</td>\n",
       "      <td>AZUL4.SA</td>\n",
       "      <td>0.0</td>\n",
       "      <td>140.0</td>\n",
       "      <td>-21.877322</td>\n",
       "    </tr>\n",
       "    <tr>\n",
       "      <th>3</th>\n",
       "      <td>3</td>\n",
       "      <td>ABEV3.SA</td>\n",
       "      <td>AZUL4.SA</td>\n",
       "      <td>0.0</td>\n",
       "      <td>180.0</td>\n",
       "      <td>-21.890945</td>\n",
       "    </tr>\n",
       "    <tr>\n",
       "      <th>4</th>\n",
       "      <td>4</td>\n",
       "      <td>ABEV3.SA</td>\n",
       "      <td>AZUL4.SA</td>\n",
       "      <td>0.0</td>\n",
       "      <td>220.0</td>\n",
       "      <td>-21.838615</td>\n",
       "    </tr>\n",
       "    <tr>\n",
       "      <th>...</th>\n",
       "      <td>...</td>\n",
       "      <td>...</td>\n",
       "      <td>...</td>\n",
       "      <td>...</td>\n",
       "      <td>...</td>\n",
       "      <td>...</td>\n",
       "    </tr>\n",
       "    <tr>\n",
       "      <th>205015</th>\n",
       "      <td>205015</td>\n",
       "      <td>YDUQ3.SA</td>\n",
       "      <td>WEGE3.SA</td>\n",
       "      <td>400.0</td>\n",
       "      <td>60.0</td>\n",
       "      <td>-12.698535</td>\n",
       "    </tr>\n",
       "    <tr>\n",
       "      <th>205016</th>\n",
       "      <td>205016</td>\n",
       "      <td>YDUQ3.SA</td>\n",
       "      <td>WEGE3.SA</td>\n",
       "      <td>400.0</td>\n",
       "      <td>100.0</td>\n",
       "      <td>-12.698535</td>\n",
       "    </tr>\n",
       "    <tr>\n",
       "      <th>205017</th>\n",
       "      <td>205017</td>\n",
       "      <td>YDUQ3.SA</td>\n",
       "      <td>WEGE3.SA</td>\n",
       "      <td>400.0</td>\n",
       "      <td>140.0</td>\n",
       "      <td>-12.698535</td>\n",
       "    </tr>\n",
       "    <tr>\n",
       "      <th>205018</th>\n",
       "      <td>205018</td>\n",
       "      <td>YDUQ3.SA</td>\n",
       "      <td>WEGE3.SA</td>\n",
       "      <td>400.0</td>\n",
       "      <td>180.0</td>\n",
       "      <td>-12.698535</td>\n",
       "    </tr>\n",
       "    <tr>\n",
       "      <th>205019</th>\n",
       "      <td>205019</td>\n",
       "      <td>YDUQ3.SA</td>\n",
       "      <td>WEGE3.SA</td>\n",
       "      <td>400.0</td>\n",
       "      <td>220.0</td>\n",
       "      <td>-12.698535</td>\n",
       "    </tr>\n",
       "  </tbody>\n",
       "</table>\n",
       "<p>205020 rows × 6 columns</p>\n",
       "</div>"
      ],
      "text/plain": [
       "        Unnamed: 0   Ativo 1   Ativo 2  Inicio  Periodo   ADF Test\n",
       "0                0  ABEV3.SA  AZUL4.SA     0.0     60.0 -21.488518\n",
       "1                1  ABEV3.SA  AZUL4.SA     0.0    100.0 -21.874476\n",
       "2                2  ABEV3.SA  AZUL4.SA     0.0    140.0 -21.877322\n",
       "3                3  ABEV3.SA  AZUL4.SA     0.0    180.0 -21.890945\n",
       "4                4  ABEV3.SA  AZUL4.SA     0.0    220.0 -21.838615\n",
       "...            ...       ...       ...     ...      ...        ...\n",
       "205015      205015  YDUQ3.SA  WEGE3.SA   400.0     60.0 -12.698535\n",
       "205016      205016  YDUQ3.SA  WEGE3.SA   400.0    100.0 -12.698535\n",
       "205017      205017  YDUQ3.SA  WEGE3.SA   400.0    140.0 -12.698535\n",
       "205018      205018  YDUQ3.SA  WEGE3.SA   400.0    180.0 -12.698535\n",
       "205019      205019  YDUQ3.SA  WEGE3.SA   400.0    220.0 -12.698535\n",
       "\n",
       "[205020 rows x 6 columns]"
      ]
     },
     "execution_count": 5,
     "metadata": {},
     "output_type": "execute_result"
    }
   ],
   "source": [
    "dados.dropna(inplace=True)\n",
    "dados"
   ]
  },
  {
   "cell_type": "code",
   "execution_count": null,
   "metadata": {},
   "outputs": [],
   "source": [
    "import plotly.express as px\n",
    "\n",
    "fig = plt.figure(figsize=(30,30))\n",
    "fig = px.scatter_3d(base, x='IVVB11.SA', y='BRL=X', z='BOVA11.SA')\n",
    "fig.update_layout(margin=dict(l=0, r=0, b=0, t=0))"
   ]
  },
  {
   "cell_type": "markdown",
   "metadata": {},
   "source": [
    "# Resíduos"
   ]
  },
  {
   "cell_type": "code",
   "execution_count": null,
   "metadata": {},
   "outputs": [],
   "source": [
    "residuos = pd.DataFrame(columns=['residuos'])\n",
    "residuos['residuos'] = coin.reg_m(x,y).resid"
   ]
  },
  {
   "cell_type": "code",
   "execution_count": null,
   "metadata": {},
   "outputs": [],
   "source": [
    "coef"
   ]
  },
  {
   "cell_type": "code",
   "execution_count": null,
   "metadata": {},
   "outputs": [],
   "source": [
    "#erro_planilha = base['BOVA11.SA'] - (base['IVVB11.SA']*coef[2] + base['BRL=X']*coef[1] + coef[0])\n",
    "erro_planilha = base['BOVA11.SA'] - (base['IVVB11.SA']*coef[1] + coef[0])\n",
    "resi = erro_planilha\n",
    "#resi = residuos['residuos']"
   ]
  },
  {
   "cell_type": "code",
   "execution_count": null,
   "metadata": {},
   "outputs": [],
   "source": [
    "coin.coint_model(resi)['ADF']"
   ]
  },
  {
   "cell_type": "code",
   "execution_count": null,
   "metadata": {},
   "outputs": [],
   "source": [
    "residuos.plot(figsize=(20,7))\n",
    "plt.axhline(y=resi.std()*2, linewidth = 2, color='red', linestyle = 'dashed')\n",
    "plt.axhline(y=-resi.std()*2, linewidth = 2, color='red', linestyle = 'dashed')\n",
    "plt.axhline(y=resi.std(), linewidth = 1, color='black', linestyle = 'dashed')\n",
    "plt.axhline(y=-resi.std(), linewidth = 1, color='black', linestyle = 'dashed')\n",
    "plt.axhline(y=0, linewidth = 1, color='black')"
   ]
  },
  {
   "cell_type": "markdown",
   "metadata": {},
   "source": [
    "# Meia Vida"
   ]
  },
  {
   "cell_type": "code",
   "execution_count": null,
   "metadata": {},
   "outputs": [],
   "source": [
    "half_life, ar_res, delta, lagged = coin.half_life(residuos.residuos)\n",
    "print('halflife: ', half_life)"
   ]
  },
  {
   "cell_type": "code",
   "execution_count": null,
   "metadata": {},
   "outputs": [],
   "source": [
    "coin.get_scatter_plot(delta, lagged, ar_res)"
   ]
  },
  {
   "cell_type": "markdown",
   "metadata": {},
   "source": [
    "## cointegrado backtest"
   ]
  },
  {
   "cell_type": "code",
   "execution_count": null,
   "metadata": {},
   "outputs": [],
   "source": [
    "difu = dict\n",
    "cointegrado = 0\n",
    "amostras = 0\n",
    "for inicio in range(0, 1500, 50):\n",
    "    for periodo in np.arange(50,310, 10):\n",
    "        y = np.array(base['BOVA11.SA'].iloc[inicio:(inicio+periodo)], dtype = float)\n",
    "        x = np.array(base.iloc[inicio:(inicio+periodo),1:], dtype = float)\n",
    "\n",
    "        residuos = pd.DataFrame(columns=['residuos'])\n",
    "        residuos['residuos'] = coin.reg_m(x,y).resid\n",
    "        \n",
    "        test = coin.coint_model(residuos)['ADF'][0]\n",
    "        difu = {'1%': -3.4753253063120644,'5%': -2.881274703275226,'10%': -2.5772928360116873}\n",
    "\n",
    "        amostras+=1\n",
    "\n",
    "        if difu['1%'] >= test:\n",
    "            cointegrado +=1\n",
    "\n",
    "print(cointegrado, amostras)"
   ]
  },
  {
   "cell_type": "code",
   "execution_count": 6,
   "metadata": {},
   "outputs": [
    {
     "name": "stdout",
     "output_type": "stream",
     "text": [
      "Note: you may need to restart the kernel to use updated packages.\n"
     ]
    },
    {
     "name": "stderr",
     "output_type": "stream",
     "text": [
      "ERROR: Could not find a version that satisfies the requirement basicbacktester\n",
      "ERROR: No matching distribution found for basicbacktester\n"
     ]
    }
   ],
   "source": [
    "pip install basicbacktester"
   ]
  },
  {
   "cell_type": "markdown",
   "metadata": {},
   "source": [
    "# Preditor"
   ]
  },
  {
   "cell_type": "code",
   "execution_count": null,
   "metadata": {},
   "outputs": [],
   "source": [
    "from sklearn.model_selection import train_test_split\n",
    "from sklearn.linear_model import LinearRegression\n",
    "\n",
    "X_train, X_test, y_train, y_test = train_test_split(x, y, test_size = 0.20, random_state = 200)\n",
    "\n",
    "regressor = LinearRegression()\n",
    "regressor.fit(X_train, y_train)"
   ]
  },
  {
   "cell_type": "code",
   "execution_count": null,
   "metadata": {},
   "outputs": [],
   "source": [
    "y_pred = regressor.predict(X_test)\n",
    "print(y_pred)"
   ]
  },
  {
   "cell_type": "code",
   "execution_count": null,
   "metadata": {},
   "outputs": [],
   "source": [
    "from sklearn.metrics import r2_score\n",
    "r2_score(y_test, y_pred)"
   ]
  },
  {
   "cell_type": "code",
   "execution_count": null,
   "metadata": {},
   "outputs": [],
   "source": [
    "def resid(self):\n",
    "    \"\"\"The residuals of the model.\"\"\"\n",
    "    return self.model.endog - self.model.predict(\n",
    "        self.params, self.model.exog)"
   ]
  },
  {
   "cell_type": "markdown",
   "metadata": {},
   "source": [
    "# Acoes"
   ]
  },
  {
   "cell_type": "code",
   "execution_count": null,
   "metadata": {},
   "outputs": [],
   "source": [
    "import acoes"
   ]
  },
  {
   "cell_type": "code",
   "execution_count": null,
   "metadata": {},
   "outputs": [],
   "source": [
    "tickers = 'IVVB11.SA BOVA11.SA'\n",
    "interval='15m'\n",
    "period='60d'\n",
    "retorno, _ = acoes.download_dados(tickers, interval, period)\n",
    "base = retorno\n",
    "\n",
    "step = 50\n",
    "coin_min = 60\n",
    "coin_max = 200\n",
    "coin_step = 40\n",
    "\n",
    "acoes.teste_coint(base, step, coin_min, coin_max, coin_step)"
   ]
  },
  {
   "cell_type": "code",
   "execution_count": null,
   "metadata": {},
   "outputs": [],
   "source": [
    "import yfinance as yf\n",
    "import coin\n",
    "\n",
    "tickers = 'IVVB11.SA BOVA11.SA'\n",
    "interval='15m'\n",
    "period='60d'\n",
    "\n",
    "df = yf.download(tickers, interval=interval, period=period)['Adj Close']\n",
    "retorno, df_ln = coin.calc_ret_ln(df)\n"
   ]
  },
  {
   "cell_type": "code",
   "execution_count": null,
   "metadata": {},
   "outputs": [],
   "source": [
    "retorno"
   ]
  },
  {
   "cell_type": "code",
   "execution_count": null,
   "metadata": {},
   "outputs": [],
   "source": []
  }
 ],
 "metadata": {
  "interpreter": {
   "hash": "b3d3522493934ff0138aee2c6dff330d5dccf278757c2f33119be5c9d92446bf"
  },
  "kernelspec": {
   "display_name": "Python 3.9.5 64-bit",
   "name": "python3"
  },
  "language_info": {
   "codemirror_mode": {
    "name": "ipython",
    "version": 3
   },
   "file_extension": ".py",
   "mimetype": "text/x-python",
   "name": "python",
   "nbconvert_exporter": "python",
   "pygments_lexer": "ipython3",
   "version": "3.9.5"
  },
  "orig_nbformat": 4
 },
 "nbformat": 4,
 "nbformat_minor": 2
}

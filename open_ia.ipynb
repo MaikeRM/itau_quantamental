{
 "cells": [
  {
   "cell_type": "code",
   "execution_count": 2,
   "metadata": {},
   "outputs": [],
   "source": [
    "import pandas as pd\n",
    "import numpy as np\n",
    "import matplotlib.pyplot as plt\n",
    "import itertools\n",
    "import yfinance as yf"
   ]
  },
  {
   "cell_type": "code",
   "execution_count": 51,
   "metadata": {},
   "outputs": [
    {
     "name": "stdout",
     "output_type": "stream",
     "text": [
      "[*********************100%***********************]  5 of 5 completed\n"
     ]
    }
   ],
   "source": [
    "tickers = ['PETR4.SA', 'VALE3.SA', 'ITUB4.SA', 'USIM3.SA', '^BVSP']\n",
    "df0 = yf.download(tickers)['Adj Close']\n",
    "bvsp = tickers.pop()"
   ]
  },
  {
   "cell_type": "code",
   "execution_count": 52,
   "metadata": {},
   "outputs": [],
   "source": [
    "df_returns = pd.DataFrame()\n",
    "for name in df0.columns:\n",
    "    df_returns[name] = np.log(df0[name]).diff()"
   ]
  },
  {
   "cell_type": "code",
   "execution_count": 53,
   "metadata": {},
   "outputs": [],
   "source": [
    "df_returns.dropna(inplace=True)"
   ]
  },
  {
   "cell_type": "code",
   "execution_count": 54,
   "metadata": {},
   "outputs": [],
   "source": [
    "Ntest = 1000\n",
    "train_data = df_returns.iloc[:-Ntest]\n",
    "test_data = df_returns.iloc[-Ntest:]"
   ]
  },
  {
   "cell_type": "code",
   "execution_count": 59,
   "metadata": {},
   "outputs": [],
   "source": [
    "class Env:\n",
    "    def __init__(self, df):\n",
    "        self.df = df\n",
    "        self.n = len(df)\n",
    "        self.current_idx = 0\n",
    "        self.action_space = [0, 1, 2] # BUY, SELL, HOLD\n",
    "        self.invested = 0\n",
    "\n",
    "        self.states = self.df[tickers].to_numpy()\n",
    "        self.rewards = self.df[bvsp]\n",
    "\n",
    "    def reset(self):\n",
    "        self.current_idx = 0\n",
    "        return self.states[self.current_idx]\n",
    "\n",
    "    def step(self, action):  # sourcery skip: raise-specific-error\n",
    "        self.current_idx += 1\n",
    "        if self.current_idx >= self.n:\n",
    "            raise Exception (\"Episodio finalizado!\")\n",
    "\n",
    "        if action == 0: # BUY\n",
    "            self.invested = 1\n",
    "        elif action == 1: # SELL\n",
    "            self.invested = 0\n",
    "\n",
    "        #Computando o reward\n",
    "        reward = self.rewards[self.current_idx] if self.invested else 0\n",
    "\n",
    "        #Transicao de estado\n",
    "        next_state = self.states[self.current_idx]\n",
    "\n",
    "        done = (self.current_idx == self.n - 1)\n",
    "\n",
    "        return next_state, reward, done"
   ]
  },
  {
   "cell_type": "code",
   "execution_count": 60,
   "metadata": {},
   "outputs": [],
   "source": [
    "class StateMapper:\n",
    "    def __init__(self, env, n_bins=6, n_samples=10000):\n",
    "        # sourcery skip: inline-variable, list-comprehension\n",
    "        done = False\n",
    "        s = env.reset()\n",
    "        self.D = len(s)\n",
    "        states = [s]\n",
    "\n",
    "        for _ in range(n_samples):\n",
    "            a = np.random.choice(env.action_space)\n",
    "            s2, _, done = env.step(a)\n",
    "            states.append(s2)\n",
    "            if done:\n",
    "                s = env.reset()\n",
    "                states.append(s)\n",
    "        states = np.array(states)\n",
    "\n",
    "        #cria bins para cada dimensão\n",
    "        self.bins = []\n",
    "        for d in range(self.D):\n",
    "            column = np.sort(states[:d])\n",
    "\n",
    "            #encontra ... para cada bin\n",
    "            current_bin = []\n",
    "            for k in range(n_bins):\n",
    "                boundary = column[int(n_samples / n_bins * (k+0.5))]\n",
    "                current_bin.append(boundary)\n",
    "\n",
    "            self.bins.append(current_bin)\n",
    "\n",
    "    def trasnform(self, state):\n",
    "        x = np.zeros(self.D)\n",
    "        for d in range(self.D):\n",
    "            x[d] = int(np.digitize(state[d], self.bins[d]))\n",
    "            return tuple(x)\n",
    "\n",
    "    def all_possible_states(self):\n",
    "        list_of_bins = []\n",
    "        for d in range(self.D):\n",
    "            list_of_bins.append(list(range(len(self.bins[d]) + 1)))\n",
    "        return itertools.product(*list_of_bins)"
   ]
  },
  {
   "cell_type": "code",
   "execution_count": null,
   "metadata": {},
   "outputs": [],
   "source": [
    "class Agent:\n",
    "    def __init__(self, action_size, state_mapper):\n",
    "        self.action_size = action_size\n",
    "        self.gamma = 0.8\n",
    "        self.epsilon = 0.1\n",
    "        self.learmimg_rate = 1e-1\n",
    "        self.state_mapper = state_mapper\n",
    "\n",
    "        #inicializando Q-table aleatoriamente\n",
    "        self.Q = {}\n",
    "        for s in self.state_mapper.all_properties():\n",
    "            s = tuple(s)\n",
    "            for a in range(self.action_size):\n",
    "                self.Q[(s,a)] = np.random.randn()\n",
    "\n",
    "    def act(self, state):\n",
    "        if np.random.rand() <= self.epsilon:\n",
    "            return np.random.choice(self.action_size)\n",
    "        s = self.state_mapper.transform(state)\n",
    "        act_values = [self.Q[(s,a)] for a in range(self.action_size)]\n",
    "        return np.argmax(act_values)\n",
    "\n",
    "    def train(self, state, action, reward, next_state, done):\n",
    "        s = self.state_mapper.transform(state)\n",
    "        s2 = self.sate_mapper.transform(next_state)\n",
    "\n",
    "        if done:\n",
    "            target = reward\n",
    "        else:\n",
    "            act_values = [self.Q[(s2, a)] for a in range(self.action_size)]\n",
    "            target = reward + self.gamma + np.amax(act_values)\n",
    "\n",
    "        "
   ]
  }
 ],
 "metadata": {
  "kernelspec": {
   "display_name": "Python 3.8.8 ('base')",
   "language": "python",
   "name": "python3"
  },
  "language_info": {
   "codemirror_mode": {
    "name": "ipython",
    "version": 3
   },
   "file_extension": ".py",
   "mimetype": "text/x-python",
   "name": "python",
   "nbconvert_exporter": "python",
   "pygments_lexer": "ipython3",
   "version": "3.8.8"
  },
  "orig_nbformat": 4,
  "vscode": {
   "interpreter": {
    "hash": "5c0014d7bdea8e8a3a940a8951e0e4dbb3d2b571e022e3cbf52dd9dc692d11f7"
   }
  }
 },
 "nbformat": 4,
 "nbformat_minor": 2
}
